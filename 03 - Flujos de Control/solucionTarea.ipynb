{
 "cells": [
  {
   "attachments": {},
   "cell_type": "markdown",
   "metadata": {},
   "source": [
    "1) Crear una variable que contenga un elemento del conjunto de números enteros y luego imprimir por pantalla si es mayor o menor a cero\n"
   ]
  },
  {
   "cell_type": "code",
   "execution_count": 12,
   "metadata": {},
   "outputs": [
    {
     "name": "stdout",
     "output_type": "stream",
     "text": [
      "22324354656564 es mayor que cero\n"
     ]
    }
   ],
   "source": [
    "x1 = 22324354656564\n",
    "\n",
    "if type(x1)== int:\n",
    "    if x1>0:\n",
    "        print(f'{x1} es mayor que cero')\n",
    "    elif x1<0:\n",
    "        print(f'{x1} es menor que cero')\n",
    "    else:\n",
    "        print('el valor de la variable es cero') \n",
    "else:\n",
    "    print('el valor ingresado no es un numero. :(')\n"
   ]
  },
  {
   "attachments": {},
   "cell_type": "markdown",
   "metadata": {},
   "source": [
    "2) Crear dos variables y un condicional que informe si son del mismo tipo de dato"
   ]
  },
  {
   "cell_type": "code",
   "execution_count": 15,
   "metadata": {},
   "outputs": [
    {
     "name": "stdout",
     "output_type": "stream",
     "text": [
      "NO son del mismo tipo de dato\n"
     ]
    }
   ],
   "source": [
    "x2 = 4\n",
    "y2 = True\n",
    "\n",
    "if type(x2)==type(y2):\n",
    "    print('son del mismo tipo de dato')\n",
    "else:\n",
    "    print('NO son del mismo tipo de dato')"
   ]
  },
  {
   "attachments": {},
   "cell_type": "markdown",
   "metadata": {},
   "source": [
    "3) Para los valores enteros del 1 al 20, imprimir por pantalla si es par o impar"
   ]
  },
  {
   "cell_type": "code",
   "execution_count": 19,
   "metadata": {},
   "outputs": [
    {
     "name": "stdout",
     "output_type": "stream",
     "text": [
      "1 es impar\n",
      "2 es par\n",
      "3 es impar\n",
      "4 es par\n",
      "5 es impar\n",
      "6 es par\n",
      "7 es impar\n",
      "8 es par\n",
      "9 es impar\n",
      "10 es par\n",
      "11 es impar\n",
      "12 es par\n",
      "13 es impar\n",
      "14 es par\n",
      "15 es impar\n",
      "16 es par\n",
      "17 es impar\n",
      "18 es par\n",
      "19 es impar\n",
      "20 es par\n"
     ]
    }
   ],
   "source": [
    "for i in range(1,21):\n",
    "    if i%2 == 0:\n",
    "        print(f'{i} es par')\n",
    "    else:\n",
    "        print(f'{i} es impar')"
   ]
  },
  {
   "attachments": {},
   "cell_type": "markdown",
   "metadata": {},
   "source": [
    "4) En un ciclo for mostrar para los valores entre 0 y 5 el resultado de elevarlo a la potencia igual a 3"
   ]
  },
  {
   "cell_type": "code",
   "execution_count": 24,
   "metadata": {},
   "outputs": [
    {
     "name": "stdout",
     "output_type": "stream",
     "text": [
      "0 = 0\n",
      "1 = 1\n",
      "2 = 8\n",
      "3 = 27\n",
      "4 = 64\n",
      "5 = 125\n"
     ]
    }
   ],
   "source": [
    "for i in range(6):\n",
    "    print(f'{i} = {i**3}')"
   ]
  },
  {
   "attachments": {},
   "cell_type": "markdown",
   "metadata": {},
   "source": [
    "5) Crear una variable que contenga un número entero y realizar un ciclo for la misma cantidad de ciclos"
   ]
  },
  {
   "cell_type": "code",
   "execution_count": 30,
   "metadata": {},
   "outputs": [
    {
     "name": "stdout",
     "output_type": "stream",
     "text": [
      "siclo 1\n",
      "siclo 2\n",
      "siclo 3\n",
      "siclo 4\n",
      "siclo 5\n",
      "siclo 6\n",
      "siclo 7\n",
      "siclo 8\n",
      "siclo 9\n",
      "siclo 10\n",
      "siclo 11\n",
      "siclo 12\n"
     ]
    }
   ],
   "source": [
    "x5 = 12\n",
    "\n",
    "for i in range(x5):\n",
    "    print(f'siclo {i+1}')"
   ]
  },
  {
   "attachments": {},
   "cell_type": "markdown",
   "metadata": {},
   "source": [
    "6) Utilizar un ciclo while para realizar el factorial de un número guardado en una variable, sólo si la variable contiene un número entero mayor a 0"
   ]
  },
  {
   "cell_type": "code",
   "execution_count": 89,
   "metadata": {},
   "outputs": [
    {
     "name": "stdout",
     "output_type": "stream",
     "text": [
      "sacando factorial\n",
      "factorial = 120 \n"
     ]
    }
   ],
   "source": [
    "factorial = 5\n",
    "if type(factorial)==int:\n",
    "    if factorial > 0:\n",
    "        print('sacando factorial')\n",
    "        x6 = factorial\n",
    "        while (x6>2):\n",
    "            factorial *= x6-1\n",
    "            x6 -= 1\n",
    "        print(f'factorial = {factorial} ')\n",
    "    else:\n",
    "        print('no se puede alla factorial de numeros negativos')\n",
    "else:\n",
    "    print('ingresa un valor positivo entero')"
   ]
  },
  {
   "attachments": {},
   "cell_type": "markdown",
   "metadata": {},
   "source": [
    "7) Crear un ciclo for dentro de un ciclo while"
   ]
  },
  {
   "cell_type": "code",
   "execution_count": 103,
   "metadata": {},
   "outputs": [
    {
     "name": "stdout",
     "output_type": "stream",
     "text": [
      "Ciclo for 1\n",
      "While 1\n",
      "Ciclo for 2\n",
      "While 2\n",
      "While 1\n",
      "Ciclo for 3\n",
      "While 3\n",
      "While 2\n",
      "While 1\n",
      "Ciclo for 4\n",
      "While 4\n",
      "While 3\n",
      "While 2\n",
      "While 1\n"
     ]
    }
   ],
   "source": [
    "x7 = 4\n",
    "\n",
    "for i in range(x7):\n",
    "    print(f'Ciclo for {i+1}')\n",
    "    while (i>=0):\n",
    "        print(f'While {i+1}')\n",
    "        i -= 1"
   ]
  },
  {
   "attachments": {},
   "cell_type": "markdown",
   "metadata": {},
   "source": [
    "8) Crear un ciclo while dentro de un ciclo for"
   ]
  },
  {
   "cell_type": "code",
   "execution_count": 106,
   "metadata": {},
   "outputs": [
    {
     "name": "stdout",
     "output_type": "stream",
     "text": [
      "Ciclo While 4\n",
      "for 1\n",
      "for 2\n",
      "for 3\n",
      "for 4\n",
      "Ciclo While 3\n",
      "for 1\n",
      "for 2\n",
      "for 3\n",
      "Ciclo While 2\n",
      "for 1\n",
      "for 2\n",
      "Ciclo While 1\n",
      "for 1\n"
     ]
    }
   ],
   "source": [
    "x8 = 4\n",
    "\n",
    "while (x8>0):\n",
    "    print(f'Ciclo While {x8}')\n",
    "    for j in range(x8):\n",
    "        print(f'for {j+1}')\n",
    "    x8-=1"
   ]
  },
  {
   "attachments": {},
   "cell_type": "markdown",
   "metadata": {},
   "source": [
    "9) Imprimir los números primos existentes entre 0 y 30"
   ]
  },
  {
   "cell_type": "code",
   "execution_count": 120,
   "metadata": {},
   "outputs": [
    {
     "data": {
      "text/plain": [
       "2"
      ]
     },
     "execution_count": 120,
     "metadata": {},
     "output_type": "execute_result"
    }
   ],
   "source": [
    "5%3"
   ]
  },
  {
   "cell_type": "code",
   "execution_count": 178,
   "metadata": {},
   "outputs": [
    {
     "name": "stdout",
     "output_type": "stream",
     "text": [
      "1 es primo: False\n",
      "2 es primo: True\n",
      "3 es primo: True\n",
      "4 es primo: False\n",
      "5 es primo: True\n",
      "6 es primo: False\n",
      "7 es primo: True\n",
      "8 es primo: False\n",
      "9 es primo: False\n",
      "10 es primo: False\n",
      "11 es primo: True\n",
      "12 es primo: False\n",
      "13 es primo: True\n",
      "14 es primo: False\n",
      "15 es primo: False\n",
      "16 es primo: False\n",
      "17 es primo: True\n",
      "18 es primo: False\n",
      "19 es primo: True\n",
      "20 es primo: False\n",
      "21 es primo: False\n",
      "22 es primo: False\n",
      "23 es primo: True\n",
      "24 es primo: False\n",
      "25 es primo: False\n",
      "26 es primo: False\n",
      "27 es primo: False\n",
      "28 es primo: False\n",
      "29 es primo: True\n",
      "30 es primo: False\n"
     ]
    }
   ],
   "source": [
    "for i in range(1,31):\n",
    "    primo = True\n",
    "    if(i==1):\n",
    "        primo=False\n",
    "    else:\n",
    "        for j in range(2,i):\n",
    "            if(i%j==0):\n",
    "                primo=False\n",
    "        \n",
    "    print(f'{i} es primo: {primo}')"
   ]
  },
  {
   "attachments": {},
   "cell_type": "markdown",
   "metadata": {},
   "source": [
    "10) ¿Se puede mejorar el proceso del punto 9? Utilizar las sentencias break y/ó continue para tal fin"
   ]
  },
  {
   "cell_type": "code",
   "execution_count": 31,
   "metadata": {},
   "outputs": [
    {
     "name": "stdout",
     "output_type": "stream",
     "text": [
      "1 es primo: False\n",
      "2 es primo: True\n",
      "3 es primo: True\n",
      "4 es primo: False\n",
      "5 es primo: True\n",
      "6 es primo: False\n",
      "7 es primo: True\n",
      "8 es primo: False\n",
      "9 es primo: False\n",
      "10 es primo: False\n",
      "11 es primo: True\n",
      "12 es primo: False\n",
      "13 es primo: True\n",
      "14 es primo: False\n",
      "15 es primo: False\n",
      "16 es primo: False\n",
      "17 es primo: True\n",
      "18 es primo: False\n",
      "19 es primo: True\n",
      "20 es primo: False\n",
      "21 es primo: False\n",
      "22 es primo: False\n",
      "23 es primo: True\n",
      "24 es primo: False\n",
      "25 es primo: False\n",
      "26 es primo: False\n",
      "27 es primo: False\n",
      "28 es primo: False\n",
      "29 es primo: True\n",
      "30 es primo: False\n",
      "siclos con break 135\n"
     ]
    }
   ],
   "source": [
    "ciclosConBreak = 0\n",
    "for i in range(1,31):\n",
    "    primo = True\n",
    "    if(i==1):\n",
    "        primo=False\n",
    "    else:\n",
    "        for j in range(2,i):\n",
    "            ciclosConBreak += 1\n",
    "            if(i%j==0):\n",
    "                primo=False\n",
    "                break\n",
    "        \n",
    "    print(f'{i} es primo: {primo}')\n",
    "print(f'siclos con break {ciclosConBreak}')"
   ]
  },
  {
   "attachments": {},
   "cell_type": "markdown",
   "metadata": {},
   "source": [
    "11) En los puntos 9 y 10, se diseño un código que encuentra números primos y además se lo optimizó. ¿Es posible saber en qué medida se optimizó?"
   ]
  },
  {
   "attachments": {},
   "cell_type": "markdown",
   "metadata": {},
   "source": [
    "al colocar la sentencia \"break\" cuando el programa esta calculando si X numero es primo o no, se optimisa mucho el programa ya que con solo una iterancion donde el residuo sea 0 ya nos damos cuenta que el numero no es primo y alli serramos el ciclo for "
   ]
  },
  {
   "attachments": {},
   "cell_type": "markdown",
   "metadata": {},
   "source": [
    "12) Si la cantidad de números que se evalúa es mayor a treinta, esa optimización crece?"
   ]
  },
  {
   "attachments": {},
   "cell_type": "markdown",
   "metadata": {},
   "source": [
    "creo que si ya que las iteraciones aumentan la optimisacion crese pero aun asi sigue siendo muy optimisado en funcion del tamaño de numeros a evaluar"
   ]
  },
  {
   "attachments": {},
   "cell_type": "markdown",
   "metadata": {},
   "source": [
    "13) Aplicando continue, armar un ciclo while que solo imprima los valores divisibles por 12, dentro del rango de números de 100 a 300"
   ]
  },
  {
   "cell_type": "code",
   "execution_count": 2,
   "metadata": {},
   "outputs": [
    {
     "name": "stdout",
     "output_type": "stream",
     "text": [
      "108 es divisible por 12\n",
      "120 es divisible por 12\n",
      "132 es divisible por 12\n",
      "144 es divisible por 12\n",
      "156 es divisible por 12\n",
      "168 es divisible por 12\n",
      "180 es divisible por 12\n",
      "192 es divisible por 12\n",
      "204 es divisible por 12\n",
      "216 es divisible por 12\n",
      "228 es divisible por 12\n",
      "240 es divisible por 12\n",
      "252 es divisible por 12\n",
      "264 es divisible por 12\n",
      "276 es divisible por 12\n",
      "288 es divisible por 12\n",
      "300 es divisible por 12\n"
     ]
    }
   ],
   "source": [
    "x13= 100\n",
    "\n",
    "while (x13 <= 300):\n",
    "    if (x13%12 == 0):\n",
    "        print(f'{x13} es divisible por 12')    \n",
    "    x13+=1"
   ]
  },
  {
   "attachments": {},
   "cell_type": "markdown",
   "metadata": {},
   "source": [
    "14) Utilizar la función **input()** que permite hacer ingresos por teclado, para encontrar números primos y dar la opción al usario de buscar el siguiente"
   ]
  },
  {
   "cell_type": "code",
   "execution_count": 8,
   "metadata": {},
   "outputs": [
    {
     "name": "stdout",
     "output_type": "stream",
     "text": [
      "Erro, digita un numero entero.\n",
      "34 no es primo\n",
      "54 no es primo\n",
      "44 no es primo\n",
      "24 no es primo\n",
      "64 no es primo\n"
     ]
    }
   ],
   "source": [
    "while True:\n",
    "        try:\n",
    "            numero = int(input('ingresa un numero entero.'))\n",
    "            primo = True\n",
    "            if(numero==1):\n",
    "                primo=False\n",
    "            else:\n",
    "                for i in range(2,numero):\n",
    "                    if(numero%i==0):\n",
    "                        primo=False\n",
    "                        break\n",
    "            if(primo):\n",
    "                print(f'{numero} es primo')\n",
    "            else:\n",
    "                print(f'{numero} no es primo')\n",
    "            validacion = input('Quieres encontrar otro numero primo: Y/N: ')\n",
    "            if(validacion=='n' or validacion=='N'):\n",
    "                break\n",
    "        except ValueError:\n",
    "            print('Erro, digita un numero entero.')\n",
    "\n"
   ]
  },
  {
   "attachments": {},
   "cell_type": "markdown",
   "metadata": {},
   "source": [
    "15) Crear un ciclo while que encuentre dentro del rango de 100 a 300 el primer número divisible por 3 y además múltiplo de 6"
   ]
  },
  {
   "cell_type": "code",
   "execution_count": 11,
   "metadata": {},
   "outputs": [
    {
     "name": "stdout",
     "output_type": "stream",
     "text": [
      "el numero es 102\n"
     ]
    }
   ],
   "source": [
    "x15=100\n",
    "\n",
    "while(x15<=300):\n",
    "    if(x15%3==0 and x15%6==0):\n",
    "        print(f'el numero es {x15}')\n",
    "        break\n",
    "    x15+=1"
   ]
  }
 ],
 "metadata": {
  "kernelspec": {
   "display_name": "Python 3",
   "language": "python",
   "name": "python3"
  },
  "language_info": {
   "codemirror_mode": {
    "name": "ipython",
    "version": 3
   },
   "file_extension": ".py",
   "mimetype": "text/x-python",
   "name": "python",
   "nbconvert_exporter": "python",
   "pygments_lexer": "ipython3",
   "version": "3.10.4"
  },
  "orig_nbformat": 4,
  "vscode": {
   "interpreter": {
    "hash": "70274bcc634adfe176c125c613a641de6579f35af00435aef20f9e7cf0090c6f"
   }
  }
 },
 "nbformat": 4,
 "nbformat_minor": 2
}
