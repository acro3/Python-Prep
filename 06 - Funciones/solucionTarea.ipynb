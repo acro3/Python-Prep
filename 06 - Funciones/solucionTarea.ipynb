{
 "cells": [
  {
   "attachments": {},
   "cell_type": "markdown",
   "metadata": {},
   "source": [
    "      SOLUCION TAREA FUNCIONES"
   ]
  },
  {
   "attachments": {},
   "cell_type": "markdown",
   "metadata": {},
   "source": [
    "1) Crear una función que reciba un número como parámetro y devuelva si True si es primo y False si no lo es"
   ]
  },
  {
   "cell_type": "code",
   "execution_count": 2,
   "metadata": {},
   "outputs": [],
   "source": [
    "def numerosPrimos(numero):\n",
    "    primo = True\n",
    "    \n",
    "    if(numero != 1):\n",
    "        for i in range(2,numero):\n",
    "            if(numero % i == 0):\n",
    "                primo = False\n",
    "                break\n",
    "    else:\n",
    "        primo = False\n",
    "\n",
    "    return primo\n"
   ]
  },
  {
   "attachments": {},
   "cell_type": "markdown",
   "metadata": {},
   "source": [
    "2) Utilizando la función del punto 1, realizar otra función que reciba de parámetro una lista de números y devuelva sólo aquellos que son primos en otra lista"
   ]
  },
  {
   "cell_type": "code",
   "execution_count": 3,
   "metadata": {},
   "outputs": [
    {
     "name": "stdout",
     "output_type": "stream",
     "text": [
      "[2, 3, 5, 7, 11, 13, 17, 19]\n"
     ]
    }
   ],
   "source": [
    "def listaNumerosPrimos(lista):\n",
    "    lisNumPrimos = []\n",
    "    for i in lista:\n",
    "        if(numerosPrimos(i)):\n",
    "            lisNumPrimos.append(i)\n",
    "    return lisNumPrimos\n",
    "        \n",
    "\n",
    "\n",
    "numeros = [122,2,3,4,5,6,7,8,9,10,11,12,13,14,15,16,17,18,19,20]\n",
    "lisprimos = listaNumerosPrimos(numeros)\n",
    "print(lisprimos)"
   ]
  },
  {
   "attachments": {},
   "cell_type": "markdown",
   "metadata": {},
   "source": [
    "3) Crear una función que al recibir una lista de números, devuelva el que más se repite y cuántas veces lo hace. Si hay más de un \"más repetido\", que devuelva cualquiera"
   ]
  },
  {
   "cell_type": "code",
   "execution_count": 4,
   "metadata": {},
   "outputs": [],
   "source": [
    "def numeroMasRepetido(lista):\n",
    "    unicos = []\n",
    "    repeticiones = []\n",
    "\n",
    "    if (len(lista)== 0):\n",
    "        return None\n",
    "    for elemento in lista:\n",
    "        if elemento in unicos:\n",
    "            i = unicos.index(elemento)\n",
    "            repeticiones[i] += 1\n",
    "        else:\n",
    "            unicos.append(elemento)\n",
    "            repeticiones.append(1)\n",
    "\n",
    "    moda = 0\n",
    "    repeticion = 0\n",
    "    for i in repeticiones:\n",
    "        if i > repeticion:\n",
    "            repeticion = i \n",
    "            moda = unicos[repeticiones.index(i)]\n",
    "    return  moda, repeticion\n"
   ]
  },
  {
   "cell_type": "code",
   "execution_count": 5,
   "metadata": {},
   "outputs": [
    {
     "name": "stdout",
     "output_type": "stream",
     "text": [
      "el numero que mas se repite es 1, Se repite 12 veces.\n"
     ]
    }
   ],
   "source": [
    "lista = [1,1,1,1,1,1,1,1,1,1,1,1,2,2,3,3,4,4,5,5,5,5,5,5,5,6,6,6,7,7,8,9]\n",
    "moda, rep= numeroMasRepetido(lista)\n",
    "print(f'el numero que mas se repite es {moda}, Se repite {rep} veces.')"
   ]
  },
  {
   "attachments": {},
   "cell_type": "markdown",
   "metadata": {},
   "source": [
    "4) A la función del punto 3, agregar un parámetro más, que permita elegir si se requiere el menor o el mayor de los mas repetidos."
   ]
  },
  {
   "cell_type": "code",
   "execution_count": 6,
   "metadata": {},
   "outputs": [],
   "source": [
    "def buscarRepetidos(lista, menor):\n",
    "    unicos = []\n",
    "    repeticiones = []\n",
    "\n",
    "    if (len(lista)== 0):\n",
    "        return None\n",
    "    if (menor):\n",
    "        lista.sort()\n",
    "    else:\n",
    "        lista.sort(reverse=True)\n",
    "    for elemento in lista:\n",
    "        if elemento in unicos:\n",
    "            i = unicos.index(elemento)\n",
    "            repeticiones[i] += 1\n",
    "        else:\n",
    "            unicos.append(elemento)\n",
    "            repeticiones.append(1)\n",
    "\n",
    "    moda = 0\n",
    "    repeticion = 0\n",
    "    for i in repeticiones:\n",
    "        if i > repeticion:\n",
    "            repeticion = i \n",
    "            moda = unicos[repeticiones.index(i)]\n",
    "    return  moda, repeticion"
   ]
  },
  {
   "cell_type": "code",
   "execution_count": 7,
   "metadata": {},
   "outputs": [
    {
     "name": "stdout",
     "output_type": "stream",
     "text": [
      "el numero que mas se repite e 23, Se repite 4 veces.\n"
     ]
    }
   ],
   "source": [
    "lis = [1,2,3,4,4,5,5,5,54,4,4,3,3,23,23,2,23,23,1,]\n",
    "moda, rep= buscarRepetidos(lis, False)\n",
    "print(f'el numero que mas se repite e {moda}, Se repite {rep} veces.')"
   ]
  },
  {
   "cell_type": "code",
   "execution_count": 8,
   "metadata": {},
   "outputs": [
    {
     "name": "stdout",
     "output_type": "stream",
     "text": [
      "el numero que mas se repite es 4, Se repite 4 veces.\n"
     ]
    }
   ],
   "source": [
    "lis = [1,2,3,4,4,5,5,5,54,4,4,3,3,23,23,2,23,23,1,]\n",
    "moda, rep= buscarRepetidos(lis, True)\n",
    "print(f'el numero que mas se repite es {moda}, Se repite {rep} veces.')"
   ]
  },
  {
   "attachments": {},
   "cell_type": "markdown",
   "metadata": {},
   "source": [
    "5) Crear una función que convierta entre grados Celsius, Farenheit y Kelvin<br>\n",
    "Fórmula 1\t: (°C × 9/5) + 32 = °F<br>\n",
    "Fórmula 2\t: °C + 273.15 = °K<br>\n",
    "Debe recibir 3 parámetros: el valor, la medida de orígen y la medida de destino"
   ]
  },
  {
   "cell_type": "code",
   "execution_count": 9,
   "metadata": {},
   "outputs": [],
   "source": [
    "def medidasTemperatura(valor, origen, destino):\n",
    "    if (origen == 'celsius'):\n",
    "        if (destino == 'celsius'):\n",
    "            temperatura = valor\n",
    "        elif (destino == 'farenheit'):\n",
    "            temperatura = (valor * 9 / 5) + 32\n",
    "        elif (destino == 'kelvin'):\n",
    "            temperatura = valor + 273.15\n",
    "        else:\n",
    "            print('Parámetro de Destino incorrecto')\n",
    "    elif (origen == 'farenheit'):\n",
    "        if (destino == 'celsius'):\n",
    "            temperatura = (valor - 32) * 5 / 9\n",
    "        elif (destino == 'farenheit'):\n",
    "            temperatura = valor\n",
    "        elif (destino == 'kelvin'):\n",
    "            temperatura = ((valor - 32) * 5 / 9) + 273.15\n",
    "        else:\n",
    "            print('Parámetro de Destino incorrecto')\n",
    "    elif (origen == 'kelvin'):\n",
    "        if (destino == 'celsius'):\n",
    "            temperatura = valor - 273.15\n",
    "        elif (destino == 'farenheit'):\n",
    "            temperatura = ((valor - 273.15) * 9 / 5) + 32\n",
    "        elif (destino == 'kelvin'):\n",
    "            temperatura = valor\n",
    "        else:\n",
    "            print('Parámetro de Destino incorrecto')\n",
    "    else:\n",
    "        print('Parámetro de Origen incorrecto')\n",
    "    return temperatura"
   ]
  },
  {
   "attachments": {},
   "cell_type": "markdown",
   "metadata": {},
   "source": [
    "6) Iterando una lista con los tres valores posibles de temperatura que recibe la función del punto 5, hacer un print para cada combinación de los mismos:"
   ]
  },
  {
   "cell_type": "code",
   "execution_count": 12,
   "metadata": {},
   "outputs": [
    {
     "name": "stdout",
     "output_type": "stream",
     "text": [
      "1 grado celsius a celsius: 1\n",
      "1 grado celsius a celsius: 274.15\n",
      "1 grado celsius a celsius: 33.8\n",
      "1 grado kelvin a kelvin: -272.15\n",
      "1 grado kelvin a kelvin: 1\n",
      "1 grado kelvin a kelvin: -457.87\n",
      "1 grado farenheit a farenheit: -17.22222222222222\n",
      "1 grado farenheit a farenheit: 255.92777777777775\n",
      "1 grado farenheit a farenheit: 1\n"
     ]
    }
   ],
   "source": [
    "medidas = ['celsius', 'kelvin', 'farenheit']\n",
    "\n",
    "for i in range(0,3):\n",
    "    for j in range(0,3):\n",
    "        print(f'1 grado {medidas[i]} a {medidas[i]}: {medidasTemperatura(1, medidas[i], medidas[j])}')"
   ]
  },
  {
   "attachments": {},
   "cell_type": "markdown",
   "metadata": {},
   "source": [
    "7) Armar una función que devuelva el factorial de un número. Tener en cuenta que el usuario puede equivocarse y enviar de parámetro un número no entero o negativo"
   ]
  },
  {
   "cell_type": "code",
   "execution_count": 11,
   "metadata": {},
   "outputs": [
    {
     "name": "stdout",
     "output_type": "stream",
     "text": [
      "ingresa numeros positivos\n",
      "digita numeros enteros\n",
      "120\n",
      "digita numeros enteros\n"
     ]
    }
   ],
   "source": [
    "def factorial(numero):\n",
    "    if (type(numero) == int):\n",
    "        if (numero > 1):\n",
    "            contador = numero\n",
    "            while (contador > 1):\n",
    "                numero *= contador - 1\n",
    "                contador -= 1\n",
    "            return numero\n",
    "        else:\n",
    "            return 'ingresa numeros positivos'\n",
    "    else:\n",
    "        return 'digita numeros enteros'\n",
    "    \n",
    "\n",
    "\n",
    "print(factorial(-45))   \n",
    "print(factorial(2.34)) \n",
    "print(factorial(5))\n",
    "print(factorial('8'))\n"
   ]
  }
 ],
 "metadata": {
  "kernelspec": {
   "display_name": "Python 3",
   "language": "python",
   "name": "python3"
  },
  "language_info": {
   "codemirror_mode": {
    "name": "ipython",
    "version": 3
   },
   "file_extension": ".py",
   "mimetype": "text/x-python",
   "name": "python",
   "nbconvert_exporter": "python",
   "pygments_lexer": "ipython3",
   "version": "3.10.4 (tags/v3.10.4:9d38120, Mar 23 2022, 23:13:41) [MSC v.1929 64 bit (AMD64)]"
  },
  "orig_nbformat": 4,
  "vscode": {
   "interpreter": {
    "hash": "70274bcc634adfe176c125c613a641de6579f35af00435aef20f9e7cf0090c6f"
   }
  }
 },
 "nbformat": 4,
 "nbformat_minor": 2
}
